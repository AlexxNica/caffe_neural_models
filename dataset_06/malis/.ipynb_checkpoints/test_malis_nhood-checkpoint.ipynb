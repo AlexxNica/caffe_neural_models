{
 "cells": [
  {
   "cell_type": "code",
   "execution_count": 1,
   "metadata": {
    "collapsed": true
   },
   "outputs": [],
   "source": [
    "import numpy as np\n",
    "import malis as m\n",
    "import h5py\n",
    "np.set_printoptions(precision=4)"
   ]
  },
  {
   "cell_type": "code",
   "execution_count": 97,
   "metadata": {
    "collapsed": true
   },
   "outputs": [],
   "source": [
    "def mknhood2d(radius=1):\n",
    "    # Makes nhood structures for some most used dense graphs.\n",
    "\n",
    "    ceilrad = np.ceil(radius)\n",
    "    x = np.arange(-ceilrad,ceilrad+1,1)\n",
    "    y = np.arange(-ceilrad,ceilrad+1,1)\n",
    "    [i,j] = np.meshgrid(y,x)\n",
    "\n",
    "    idxkeep = (i**2+j**2)<=radius**2\n",
    "    i=i[idxkeep].ravel(); j=j[idxkeep].ravel();\n",
    "    zeroIdx = np.ceil(len(i)/2).astype(int);\n",
    "\n",
    "    # flipud and order (j,i,k) so that mknhood2(1) matches mknhood(6)\n",
    "    nhood = np.vstack((j[:zeroIdx],i[:zeroIdx])).T.astype(int)\n",
    "    return np.ascontiguousarray(nhood)\n",
    "\n",
    "def mknhood3d(radius=1):\n",
    "    # Makes nhood structures for some most used dense graphs.\n",
    "    # The neighborhood reference for the dense graph representation we use\n",
    "    # nhood(1,:) is a 3 vector that describe the node that conn(:,:,:,1) connects to\n",
    "    # so to use it: conn(23,12,42,3) is the edge between node [23 12 42] and [23 12 42]+nhood(3,:)\n",
    "    # See? It's simple! nhood is just the offset vector that the edge corresponds to.\n",
    "\n",
    "    ceilrad = np.ceil(radius)\n",
    "    x = np.arange(-ceilrad,ceilrad+1,1)\n",
    "    y = np.arange(-ceilrad,ceilrad+1,1)\n",
    "    z = np.arange(-ceilrad,ceilrad+1,1)\n",
    "    [i,j,k] = np.meshgrid(z,y,z)\n",
    "\n",
    "    idxkeep = (i**2+j**2+k**2)<=radius**2\n",
    "    i=i[idxkeep].ravel(); j=j[idxkeep].ravel(); k=k[idxkeep].ravel();\n",
    "    zeroIdx = np.ceil(len(i)/2).astype(int);\n",
    "\n",
    "    # flipud and order (j,i,k) so that mknhood2(1) matches mknhood(6)\n",
    "    nhood = np.vstack((j[:zeroIdx],i[:zeroIdx],k[:zeroIdx])).T.astype(int)\n",
    "    return np.ascontiguousarray(nhood)\n",
    "\n",
    "def mknhood3d_aniso(radiusxy=1,radiusxy_zminus1=1.8):\n",
    "    # Makes nhood structures for some most used dense graphs.\n",
    "\n",
    "    nhoodxyz = mknhood3d(radiusxy)\n",
    "    nhoodxy_zminus1 = mknhood2d(radiusxy_zminus1)\n",
    "    \n",
    "    nhood = np.zeros((nhoodxyz.shape[0]+2*nhoodxy_zminus1.shape[0],3))\n",
    "    print nhood.shape\n",
    "    nhood[:3,:3] = nhoodxyz\n",
    "    print nhood.shape\n",
    "    nhood[2,3:].fill(-1)\n",
    "    print nhood[:2,3:].shape\n",
    "    nhood[:2,3:] = np.vstack((nhoodxy_zminus1,-nhoodxy_zminus1))\n",
    "\n",
    "    return np.ascontiguousarray(nhood)\n"
   ]
  },
  {
   "cell_type": "code",
   "execution_count": 98,
   "metadata": {
    "collapsed": false
   },
   "outputs": [
    {
     "name": "stdout",
     "output_type": "stream",
     "text": [
      "[[-1  0  0]\n",
      " [ 0 -1  0]\n",
      " [ 0  0 -1]]\n"
     ]
    }
   ],
   "source": [
    "nh=mknhood3d()\n",
    "print nh"
   ]
  },
  {
   "cell_type": "code",
   "execution_count": 99,
   "metadata": {
    "collapsed": false
   },
   "outputs": [
    {
     "name": "stdout",
     "output_type": "stream",
     "text": [
      "(2, 0)\n"
     ]
    },
    {
     "ename": "ValueError",
     "evalue": "could not broadcast input array from shape (8,2) into shape (2,0)",
     "output_type": "error",
     "traceback": [
      "\u001b[1;31m---------------------------------------------------------------------------\u001b[0m",
      "\u001b[1;31mValueError\u001b[0m                                Traceback (most recent call last)",
      "\u001b[1;32m<ipython-input-99-1f9268610fbb>\u001b[0m in \u001b[0;36m<module>\u001b[1;34m()\u001b[0m\n\u001b[1;32m----> 1\u001b[1;33m \u001b[0mnh\u001b[0m\u001b[1;33m=\u001b[0m\u001b[0mmknhood3d_aniso\u001b[0m\u001b[1;33m(\u001b[0m\u001b[1;33m)\u001b[0m\u001b[1;33m\u001b[0m\u001b[0m\n\u001b[0m\u001b[0;32m      2\u001b[0m \u001b[1;32mprint\u001b[0m \u001b[0mnh\u001b[0m\u001b[1;33m\u001b[0m\u001b[0m\n",
      "\u001b[1;32m<ipython-input-97-395d5e81a45c>\u001b[0m in \u001b[0;36mmknhood3d_aniso\u001b[1;34m(radiusxy, radiusxy_zminus1)\u001b[0m\n\u001b[0;32m     46\u001b[0m     \u001b[0mnhood\u001b[0m\u001b[1;33m[\u001b[0m\u001b[1;36m2\u001b[0m\u001b[1;33m,\u001b[0m\u001b[1;36m3\u001b[0m\u001b[1;33m:\u001b[0m\u001b[1;33m]\u001b[0m\u001b[1;33m.\u001b[0m\u001b[0mfill\u001b[0m\u001b[1;33m(\u001b[0m\u001b[1;33m-\u001b[0m\u001b[1;36m1\u001b[0m\u001b[1;33m)\u001b[0m\u001b[1;33m\u001b[0m\u001b[0m\n\u001b[0;32m     47\u001b[0m     \u001b[1;32mprint\u001b[0m \u001b[0mnhood\u001b[0m\u001b[1;33m[\u001b[0m\u001b[1;33m:\u001b[0m\u001b[1;36m2\u001b[0m\u001b[1;33m,\u001b[0m\u001b[1;36m3\u001b[0m\u001b[1;33m:\u001b[0m\u001b[1;33m]\u001b[0m\u001b[1;33m.\u001b[0m\u001b[0mshape\u001b[0m\u001b[1;33m\u001b[0m\u001b[0m\n\u001b[1;32m---> 48\u001b[1;33m     \u001b[0mnhood\u001b[0m\u001b[1;33m[\u001b[0m\u001b[1;33m:\u001b[0m\u001b[1;36m2\u001b[0m\u001b[1;33m,\u001b[0m\u001b[1;36m3\u001b[0m\u001b[1;33m:\u001b[0m\u001b[1;33m]\u001b[0m \u001b[1;33m=\u001b[0m \u001b[0mnp\u001b[0m\u001b[1;33m.\u001b[0m\u001b[0mvstack\u001b[0m\u001b[1;33m(\u001b[0m\u001b[1;33m(\u001b[0m\u001b[0mnhoodxy_zminus1\u001b[0m\u001b[1;33m,\u001b[0m\u001b[1;33m-\u001b[0m\u001b[0mnhoodxy_zminus1\u001b[0m\u001b[1;33m)\u001b[0m\u001b[1;33m)\u001b[0m\u001b[1;33m\u001b[0m\u001b[0m\n\u001b[0m\u001b[0;32m     49\u001b[0m \u001b[1;33m\u001b[0m\u001b[0m\n\u001b[0;32m     50\u001b[0m     \u001b[1;32mreturn\u001b[0m \u001b[0mnp\u001b[0m\u001b[1;33m.\u001b[0m\u001b[0mascontiguousarray\u001b[0m\u001b[1;33m(\u001b[0m\u001b[0mnhood\u001b[0m\u001b[1;33m)\u001b[0m\u001b[1;33m\u001b[0m\u001b[0m\n",
      "\u001b[1;31mValueError\u001b[0m: could not broadcast input array from shape (8,2) into shape (2,0)"
     ]
    }
   ],
   "source": [
    "nh=mknhood3d_aniso()\n",
    "print nh"
   ]
  },
  {
   "cell_type": "code",
   "execution_count": null,
   "metadata": {
    "collapsed": true
   },
   "outputs": [],
   "source": []
  }
 ],
 "metadata": {
  "kernelspec": {
   "display_name": "Python 2",
   "language": "python",
   "name": "python2"
  },
  "language_info": {
   "codemirror_mode": {
    "name": "ipython",
    "version": 2
   },
   "file_extension": ".py",
   "mimetype": "text/x-python",
   "name": "python",
   "nbconvert_exporter": "python",
   "pygments_lexer": "ipython2",
   "version": "2.7.10"
  }
 },
 "nbformat": 4,
 "nbformat_minor": 0
}
